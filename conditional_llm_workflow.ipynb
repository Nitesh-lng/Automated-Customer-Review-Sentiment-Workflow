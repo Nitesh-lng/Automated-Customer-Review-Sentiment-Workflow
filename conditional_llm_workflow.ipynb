{
 "cells": [
  {
   "cell_type": "code",
   "execution_count": 1,
   "id": "1f93a169",
   "metadata": {},
   "outputs": [],
   "source": [
    "from langchain_groq import ChatGroq\n",
    "from langgraph.graph import StateGraph, START, END\n",
    "from dotenv import load_dotenv\n",
    "from typing import TypedDict , Literal\n",
    "from pydantic import BaseModel, Field\n",
    "import json\n",
    "from pprint import pprint"
   ]
  },
  {
   "cell_type": "code",
   "execution_count": 2,
   "id": "9fc1276d",
   "metadata": {},
   "outputs": [
    {
     "data": {
      "text/plain": [
       "True"
      ]
     },
     "execution_count": 2,
     "metadata": {},
     "output_type": "execute_result"
    }
   ],
   "source": [
    "load_dotenv()"
   ]
  },
  {
   "cell_type": "code",
   "execution_count": 3,
   "id": "c0cedb3f",
   "metadata": {},
   "outputs": [],
   "source": [
    "model=ChatGroq(\n",
    "    model='llama-3.3-70b-versatile'\n",
    ")"
   ]
  },
  {
   "cell_type": "code",
   "execution_count": 4,
   "id": "5e74d0e9",
   "metadata": {},
   "outputs": [],
   "source": [
    "class LLMCondition(BaseModel):\n",
    "\n",
    "    sentiment: Literal['Positive','Negative'] =Field(description='Find the sentiment')"
   ]
  },
  {
   "cell_type": "code",
   "execution_count": 5,
   "id": "c02f6372",
   "metadata": {},
   "outputs": [],
   "source": [
    "struc_model=model.with_structured_output(LLMCondition)"
   ]
  },
  {
   "cell_type": "code",
   "execution_count": 6,
   "id": "776e122d",
   "metadata": {},
   "outputs": [],
   "source": [
    "class Graphstate(TypedDict):\n",
    "\n",
    "    review:str\n",
    "    sentiment:str\n",
    "    issue_type:str\n",
    "    tone_type:str\n",
    "    urgency_type:str\n",
    "    positive_response:str\n",
    "    response:str\n",
    "    issue_type:str\n",
    "    tone_type:str\n",
    "    urgency_type:str"
   ]
  },
  {
   "cell_type": "code",
   "execution_count": 7,
   "id": "4abb5b70",
   "metadata": {},
   "outputs": [],
   "source": [
    "graph=StateGraph(Graphstate)"
   ]
  },
  {
   "cell_type": "code",
   "execution_count": 8,
   "id": "2c87858b",
   "metadata": {},
   "outputs": [],
   "source": [
    "def sentiment(state:Graphstate):\n",
    "\n",
    "    prompt=f'find the sentiment of the given review {state['review']}'\n",
    "    sentiment=struc_model.invoke(prompt)\n",
    "\n",
    "    return {\n",
    "        'sentiment':sentiment\n",
    "    }"
   ]
  },
  {
   "cell_type": "code",
   "execution_count": 9,
   "id": "b9789299",
   "metadata": {},
   "outputs": [],
   "source": [
    "def run_diag(state:Graphstate):\n",
    "\n",
    "    prompt=(\n",
    "        f\"Analyze the following customer review:\\n\\n\"\n",
    "        f\"\\\"{state['review']}\\\"\\n\\n\"\n",
    "        \"Identify the following aspects:\\n\"\n",
    "        \"1. Issue Type (e.g., 'service', 'product', 'delivery', etc.):\\n\"\n",
    "        \"2. Tone Type (e.g., 'angry', 'frustrated', 'disappointed', etc.):\\n\"\n",
    "        \"3. Urgency Level (e.g., 'urgent', 'not urgent', 'moderate'):\\n\\n\"\n",
    "        \"Return your answers in this JSON format:\\n\"\n",
    "        '{\"issue_type\": \"<value>\", \"tone_type\": \"<value>\", \"urgency_type\": \"<value>\"}'\n",
    "    )\n",
    "    \n",
    "    resp=model.invoke(prompt)\n",
    "\n",
    "    llm_output=resp.content\n",
    "    result = json.loads(llm_output)\n",
    "    issue_type = result[\"issue_type\"]\n",
    "    tone_type = result[\"tone_type\"]\n",
    "    urgency_type = result[\"urgency_type\"]\n",
    "\n",
    "    return {\n",
    "        'issue_type':issue_type,\n",
    "        'tone_type':tone_type,\n",
    "        'urgency_type':urgency_type\n",
    "    }"
   ]
  },
  {
   "cell_type": "code",
   "execution_count": 10,
   "id": "198bbfb3",
   "metadata": {},
   "outputs": [],
   "source": [
    "def response(state: Graphstate):\n",
    "\n",
    "    issue_type = state['issue_type']\n",
    "    tone_type = state['tone_type']\n",
    "    urgency_type = state['urgency_type']\n",
    "\n",
    "    prompt = f'''\n",
    "    You are a helpful customer support assistant.\n",
    "\n",
    "    Given the following parameters extracted from a customer's review:\n",
    "    - Issue Type: {issue_type}\n",
    "    - Tone Type: {tone_type}\n",
    "    - Urgency Level: {urgency_type}\n",
    "\n",
    "    Compose a thoughtful, empathetic reply addressing the customer's concerns. \n",
    "    - Directly acknowledge the specific issue type.\n",
    "    - Match the tone and show understanding of the customer's mood.\n",
    "    - Consider the urgency level when shaping your response—respond more swiftly and formally when urgent, more reassuringly if not urgent.\n",
    "    - Keep the response clear and courteous.\n",
    "\n",
    "    Reply as if you are writing to the customer.\n",
    "\n",
    "    Example format:\n",
    "\n",
    "    \"Thank you for your feedback regarding {issue_type}. We understand that you are feeling {tone_type} about this experience. Our team recognizes the {urgency_type} nature of your concern and will take appropriate action. [Add any further actions, apologies, or solutions relevant to the context.]\"\n",
    "\n",
    "    Return only your composed reply, without explanation or extra formatting.\n",
    "'''\n",
    "\n",
    "    final_response = model.invoke(prompt)\n",
    "\n",
    "    return {\n",
    "        'response': final_response\n",
    "    }\n"
   ]
  },
  {
   "cell_type": "code",
   "execution_count": 11,
   "id": "1b5e974e",
   "metadata": {},
   "outputs": [],
   "source": [
    "def positive_res(state:Graphstate):\n",
    "\n",
    "    dem='Thank you for your feedback'\n",
    "\n",
    "    return {\n",
    "        'positive_response': dem\n",
    "    }"
   ]
  },
  {
   "cell_type": "code",
   "execution_count": 12,
   "id": "e9d81ba9",
   "metadata": {},
   "outputs": [],
   "source": [
    "def conditional_dec(state:Graphstate)-> Literal[\"positive_res\", \"run_diag\"]:\n",
    "\n",
    "    if state['sentiment']=='Positive':\n",
    "        return 'positive_res'\n",
    "\n",
    "    else:\n",
    "        return 'run_diag'"
   ]
  },
  {
   "cell_type": "code",
   "execution_count": 13,
   "id": "6b55e670",
   "metadata": {},
   "outputs": [
    {
     "data": {
      "text/plain": [
       "<langgraph.graph.state.StateGraph at 0x10c421010>"
      ]
     },
     "execution_count": 13,
     "metadata": {},
     "output_type": "execute_result"
    }
   ],
   "source": [
    "graph.add_node('sentiment',sentiment)\n",
    "graph.add_node('run_diag',run_diag)\n",
    "graph.add_node('response',response)\n",
    "graph.add_node('positive_res',positive_res)\n",
    "\n",
    "graph.add_edge(START,'sentiment')\n",
    "graph.add_conditional_edges('sentiment', conditional_dec)\n",
    "\n",
    "graph.add_edge('positive_res',END)\n",
    "\n",
    "graph.add_edge('run_diag','response')\n",
    "graph.add_edge('response',END)"
   ]
  },
  {
   "cell_type": "code",
   "execution_count": 14,
   "id": "31178f06",
   "metadata": {},
   "outputs": [],
   "source": [
    "workflow=graph.compile()"
   ]
  },
  {
   "cell_type": "code",
   "execution_count": 15,
   "id": "eb806424",
   "metadata": {},
   "outputs": [
    {
     "data": {
      "image/png": "[encoded data removed]",
      "text/plain": [
       "<langgraph.graph.state.CompiledStateGraph object at 0x10c421400>"
      ]
     },
     "execution_count": 15,
     "metadata": {},
     "output_type": "execute_result"
    }
   ],
   "source": [
    "workflow"
   ]
  },
  {
   "cell_type": "code",
   "execution_count": 16,
   "id": "79c55c96",
   "metadata": {},
   "outputs": [],
   "source": [
    "revi_pos='''I recently bought the Lenovo AI Ryzen 7 350, and I’m really happy with it. The performance is top-notch—the Ryzen 7 processor handles multitasking with ease. I use it for coding, browsing, and occasional gaming, and it runs smoothly without any lag.\n",
    "\n",
    "The built-in AI features are genuinely helpful. They optimize performance and battery life depending on how I use the laptop, which makes it feel very responsive and efficient.\n",
    "\n",
    "The display is bright and clear, and the laptop looks sleek and premium. It’s also lightweight, so it’s easy to carry around. The keyboard is comfortable for long typing sessions, and the speakers are clear and loud enough for regular use—I found them quite satisfying.\n",
    "\n",
    "It has face recognition login, which is a nice feature, but it’s not as fast as I expected. Also, it doesn’t come with a fingerprint sensor, which would have been a great addition.\n",
    "\n",
    "That said, overall it’s a great value for the price, with solid performance and modern features. I’d definitely recommend it for students, professionals, or anyone needing a reliable, powerful laptop.'''"
   ]
  },
  {
   "cell_type": "code",
   "execution_count": 17,
   "id": "1ba3bc73",
   "metadata": {},
   "outputs": [],
   "source": [
    "revi_neg='''\n",
    "\n",
    "Amazon and Apple Service Centre not replace my MacBook Air M1 after submit in 7 Days Replacement Policy.\n",
    "my 1 month totally waste for conversation from Amazon support and apple support but product not replace :(\n",
    "bed experience first time on Amazon.in\n",
    "\n",
    "The Apple MacBook Air with the M1 Chip is a standout in the laptop market, combining sleek design with breakthrough performance. The shift to Apple’s custom M1 processor is a game-changer, providing blazing-fast speeds, improved battery life, and quiet operation due to the fanless design.\n",
    "\n",
    "Performance: The M1 chip offers impressive speed and efficiency. Everyday tasks like web browsing, document editing, and streaming are incredibly smooth, and even more demanding applications such as photo editing and video rendering perform exceptionally well for a lightweight laptop. The 8-core CPU and 7- or 8-core GPU variants handle multitasking and graphics-heavy work without any significant slowdowns.\n",
    "\n",
    "Battery Life: One of the most impressive features is the battery life, which can easily last over 15 hours with standard use. This is a huge plus for users who need a reliable, all-day laptop without having to worry about charging frequently.\n",
    "\n",
    "Display: The 13.3-inch Retina display with True Tone technology is vibrant, with sharp color accuracy and clarity. It’s perfect for creative professionals working with graphics or video, or for anyone who values excellent screen quality.\n",
    "\n",
    "Build and Design: As expected from Apple, the design is premium and ultra-slim, making it highly portable. Weighing just 2.8 pounds, it's a great option for students, professionals, or anyone on the go. The keyboard is comfortable to type on, and the trackpad is large and responsive.\n",
    "\n",
    "Software Compatibility: While the shift to the M1 chip from Intel initially raised concerns about software compatibility, most major applications have been optimized for Apple Silicon, and the Rosetta 2 emulator allows older Intel-based apps to run smoothly.\n",
    "\n",
    "Limitations: The MacBook Air’s fanless design is great for quiet operation, but it can lead to some thermal throttling during prolonged heavy tasks like extensive video editing or 3D rendering. Also, the limited port selection (only two USB-C ports) may require users to invest in adapters.\n",
    "\n",
    "Verdict: Overall, the MacBook Air M1 is a top-tier ultrabook that delivers exceptional performance for most users. It strikes a perfect balance between portability, power, and battery life, making it an excellent choice for students, professionals, and casual users alike. While not designed for the most intensive workloads, it’s an incredibly capable machine that redefines what an entry-level MacBook can achieve.\n",
    "\n",
    "'''"
   ]
  },
  {
   "cell_type": "code",
   "execution_count": 18,
   "id": "0fd1c784",
   "metadata": {},
   "outputs": [
    {
     "name": "stdout",
     "output_type": "stream",
     "text": [
      "{'review': \"\\n\\nAmazon and Apple Service Centre not replace my MacBook Air M1 after submit in 7 Days Replacement Policy.\\nmy 1 month totally waste for conversation from Amazon support and apple support but product not replace :(\\nbed experience first time on Amazon.in\\n\\nThe Apple MacBook Air with the M1 Chip is a standout in the laptop market, combining sleek design with breakthrough performance. The shift to Apple’s custom M1 processor is a game-changer, providing blazing-fast speeds, improved battery life, and quiet operation due to the fanless design.\\n\\nPerformance: The M1 chip offers impressive speed and efficiency. Everyday tasks like web browsing, document editing, and streaming are incredibly smooth, and even more demanding applications such as photo editing and video rendering perform exceptionally well for a lightweight laptop. The 8-core CPU and 7- or 8-core GPU variants handle multitasking and graphics-heavy work without any significant slowdowns.\\n\\nBattery Life: One of the most impressive features is the battery life, which can easily last over 15 hours with standard use. This is a huge plus for users who need a reliable, all-day laptop without having to worry about charging frequently.\\n\\nDisplay: The 13.3-inch Retina display with True Tone technology is vibrant, with sharp color accuracy and clarity. It’s perfect for creative professionals working with graphics or video, or for anyone who values excellent screen quality.\\n\\nBuild and Design: As expected from Apple, the design is premium and ultra-slim, making it highly portable. Weighing just 2.8 pounds, it's a great option for students, professionals, or anyone on the go. The keyboard is comfortable to type on, and the trackpad is large and responsive.\\n\\nSoftware Compatibility: While the shift to the M1 chip from Intel initially raised concerns about software compatibility, most major applications have been optimized for Apple Silicon, and the Rosetta 2 emulator allows older Intel-based apps to run smoothly.\\n\\nLimitations: The MacBook Air’s fanless design is great for quiet operation, but it can lead to some thermal throttling during prolonged heavy tasks like extensive video editing or 3D rendering. Also, the limited port selection (only two USB-C ports) may require users to invest in adapters.\\n\\nVerdict: Overall, the MacBook Air M1 is a top-tier ultrabook that delivers exceptional performance for most users. It strikes a perfect balance between portability, power, and battery life, making it an excellent choice for students, professionals, and casual users alike. While not designed for the most intensive workloads, it’s an incredibly capable machine that redefines what an entry-level MacBook can achieve.\\n\\n\", 'sentiment': LLMCondition(sentiment='Negative'), 'issue_type': 'service', 'tone_type': 'frustrated', 'urgency_type': 'moderate', 'response': AIMessage(content=\"Thank you for your feedback regarding the service issue you've encountered. We understand that you are feeling frustrated about this experience, and we apologize for any inconvenience this has caused. Our team recognizes the moderate nature of your concern and will take appropriate action to address it promptly. We are committed to providing you with a better experience and would like to make things right. A member of our support team will be in touch with you shortly to discuss a resolution and prevent such issues from happening in the future. Your satisfaction is our priority, and we appreciate your patience and understanding as we work to resolve this matter.\", additional_kwargs={}, response_metadata={'token_usage': {'completion_tokens': 120, 'prompt_tokens': 233, 'total_tokens': 353, 'completion_time': 0.400310323, 'prompt_time': 0.028999848, 'queue_time': 0.053189404, 'total_time': 0.429310171}, 'model_name': 'llama-3.3-70b-versatile', 'system_fingerprint': 'fp_9a8b91ba77', 'service_tier': 'on_demand', 'finish_reason': 'stop', 'logprobs': None}, id='run--4ed4bd3c-74f8-4c70-b537-f7d02beaa2d3-0', usage_metadata={'input_tokens': 233, 'output_tokens': 120, 'total_tokens': 353})}\n"
     ]
    }
   ],
   "source": [
    "initial_state={\n",
    "    'review':revi_neg\n",
    "}\n",
    "\n",
    "final_result=workflow.invoke(initial_state)\n",
    "\n",
    "print(final_result)"
   ]
  },
  {
   "cell_type": "code",
   "execution_count": 19,
   "id": "88c6a4c2",
   "metadata": {},
   "outputs": [
    {
     "name": "stdout",
     "output_type": "stream",
     "text": [
      "(\"Thank you for your feedback regarding the service issue you've encountered. \"\n",
      " 'We understand that you are feeling frustrated about this experience, and we '\n",
      " 'apologize for any inconvenience this has caused. Our team recognizes the '\n",
      " 'moderate nature of your concern and will take appropriate action to address '\n",
      " 'it promptly. We are committed to providing you with a better experience and '\n",
      " 'would like to make things right. A member of our support team will be in '\n",
      " 'touch with you shortly to discuss a resolution and prevent such issues from '\n",
      " 'happening in the future. Your satisfaction is our priority, and we '\n",
      " 'appreciate your patience and understanding as we work to resolve this '\n",
      " 'matter.')\n"
     ]
    }
   ],
   "source": [
    "final_reply = final_result['response']\n",
    "pprint(final_reply.content)"
   ]
  },
  {
   "cell_type": "code",
   "execution_count": 20,
   "id": "dd1c33fe",
   "metadata": {},
   "outputs": [],
   "source": [
    "#poitive"
   ]
  },
  {
   "cell_type": "code",
   "execution_count": 21,
   "id": "9dab37bb",
   "metadata": {},
   "outputs": [
    {
     "name": "stdout",
     "output_type": "stream",
     "text": [
      "{'review': 'I recently bought the Lenovo AI Ryzen 7 350, and I’m really happy with it. The performance is top-notch—the Ryzen 7 processor handles multitasking with ease. I use it for coding, browsing, and occasional gaming, and it runs smoothly without any lag.\\n\\nThe built-in AI features are genuinely helpful. They optimize performance and battery life depending on how I use the laptop, which makes it feel very responsive and efficient.\\n\\nThe display is bright and clear, and the laptop looks sleek and premium. It’s also lightweight, so it’s easy to carry around. The keyboard is comfortable for long typing sessions, and the speakers are clear and loud enough for regular use—I found them quite satisfying.\\n\\nIt has face recognition login, which is a nice feature, but it’s not as fast as I expected. Also, it doesn’t come with a fingerprint sensor, which would have been a great addition.\\n\\nThat said, overall it’s a great value for the price, with solid performance and modern features. I’d definitely recommend it for students, professionals, or anyone needing a reliable, powerful laptop.', 'sentiment': LLMCondition(sentiment='Positive'), 'issue_type': 'product', 'tone_type': 'satisfied', 'urgency_type': 'not urgent', 'response': AIMessage(content=\"Thank you for your feedback regarding the product. We understand that you are feeling satisfied about this experience. Our team recognizes the not urgent nature of your concern and will take appropriate action. We appreciate the time you took to share your positive thoughts, and we're glad to hear that our product has met your expectations. If you have any other questions or need further assistance in the future, please don't hesitate to reach out to us.\", additional_kwargs={}, response_metadata={'token_usage': {'completion_tokens': 87, 'prompt_tokens': 235, 'total_tokens': 322, 'completion_time': 0.230514726, 'prompt_time': 0.012925532, 'queue_time': 0.056319221, 'total_time': 0.243440258}, 'model_name': 'llama-3.3-70b-versatile', 'system_fingerprint': 'fp_3f3b593e33', 'service_tier': 'on_demand', 'finish_reason': 'stop', 'logprobs': None}, id='run--f3a751fd-0938-42f5-a221-7fb60bf66940-0', usage_metadata={'input_tokens': 235, 'output_tokens': 87, 'total_tokens': 322})}\n"
     ]
    }
   ],
   "source": [
    "initial_state_pos={\n",
    "    'review':revi_pos\n",
    "}\n",
    "\n",
    "final_result_pos=workflow.invoke(initial_state_pos)\n",
    "\n",
    "print(final_result_pos)"
   ]
  },
  {
   "cell_type": "code",
   "execution_count": null,
   "id": "6c0d4306",
   "metadata": {},
   "outputs": [
    {
     "name": "stdout",
     "output_type": "stream",
     "text": [
      "('Thank you for your feedback regarding the product. We understand that you '\n",
      " 'are feeling satisfied about this experience. Our team recognizes the not '\n",
      " 'urgent nature of your concern and will take appropriate action. We '\n",
      " \"appreciate the time you took to share your positive thoughts, and we're glad \"\n",
      " 'to hear that our product has met your expectations. If you have any other '\n",
      " \"questions or need further assistance in the future, please don't hesitate to \"\n",
      " 'reach out to us.')\n"
     ]
    }
   ],
   "source": [
    "final_reply_pos = final_result_pos['response']\n",
    "pprint(final_reply_pos.content)"
   ]
  }
 ],
 "metadata": {
  "kernelspec": {
   "display_name": "langgraph",
   "language": "python",
   "name": "python3"
  },
  "language_info": {
   "codemirror_mode": {
    "name": "ipython",
    "version": 3
   },
   "file_extension": ".py",
   "mimetype": "text/x-python",
   "name": "python",
   "nbconvert_exporter": "python",
   "pygments_lexer": "ipython3",
   "version": "3.13.4"
  }
 },
 "nbformat": 4,
 "nbformat_minor": 5
}
